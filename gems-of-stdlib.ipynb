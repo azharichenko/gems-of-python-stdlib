{
 "cells": [
  {
   "cell_type": "markdown",
   "metadata": {
    "slideshow": {
     "slide_type": "slide"
    }
   },
   "source": [
    "# Gems of the Python Standard Library\n",
    "### Alex Zharichenko"
   ]
  },
  {
   "cell_type": "markdown",
   "metadata": {
    "slideshow": {
     "slide_type": "slide"
    }
   },
   "source": [
    "# Data Types"
   ]
  },
  {
   "cell_type": "markdown",
   "metadata": {
    "slideshow": {
     "slide_type": "slide"
    }
   },
   "source": [
    "## enum\n",
    "---\n",
    "#### Support for enumerations"
   ]
  },
  {
   "cell_type": "code",
   "execution_count": 7,
   "metadata": {
    "slideshow": {
     "slide_type": "slide"
    }
   },
   "outputs": [
    {
     "data": {
      "text/plain": [
       "True"
      ]
     },
     "execution_count": 7,
     "metadata": {},
     "output_type": "execute_result"
    }
   ],
   "source": [
    "from enum import Enum, IntEnum\n",
    "class Color(IntEnum):\n",
    "     RED = 1\n",
    "     GREEN = 2\n",
    "     BLUE = 3\n",
    "        \n",
    "Color.RED\n",
    "Color.RED == 1\n",
    "# list(Color)"
   ]
  },
  {
   "cell_type": "code",
   "execution_count": 156,
   "metadata": {
    "slideshow": {
     "slide_type": "slide"
    }
   },
   "outputs": [
    {
     "data": {
      "text/plain": [
       "[<Color.RED: 1>, <Color.BLUE: 2>, <Color.GREEN: 4>, <Color.WHITE: 7>]"
      ]
     },
     "execution_count": 156,
     "metadata": {},
     "output_type": "execute_result"
    }
   ],
   "source": [
    "from enum import Flag, auto\n",
    "\n",
    "class Color(Flag):\n",
    "     RED = auto()\n",
    "     BLUE = auto()\n",
    "     GREEN = auto()\n",
    "     WHITE = RED | BLUE | GREEN\n",
    "    \n",
    "list(Color)"
   ]
  },
  {
   "cell_type": "markdown",
   "metadata": {
    "slideshow": {
     "slide_type": "slide"
    }
   },
   "source": [
    "## bisect"
   ]
  },
  {
   "cell_type": "code",
   "execution_count": 151,
   "metadata": {
    "slideshow": {
     "slide_type": "slide"
    }
   },
   "outputs": [
    {
     "name": "stdout",
     "output_type": "stream",
     "text": [
      "0\n",
      "4\n",
      "2\n",
      "2\n",
      "3\n",
      "4\n",
      "4\n"
     ]
    },
    {
     "data": {
      "text/plain": [
       "['F', 'A', 'C', 'C', 'B', 'A', 'A']"
      ]
     },
     "execution_count": 151,
     "metadata": {},
     "output_type": "execute_result"
    }
   ],
   "source": [
    "from bisect import bisect\n",
    "def grade(score, breakpoints=[60, 70, 80, 90], grades='FDCBA'):\n",
    "    i = bisect(breakpoints, score)\n",
    "    return grades[i]\n",
    "\n",
    "[grade(score) for score in [33, 99, 77, 70, 89, 90, 100]]"
   ]
  },
  {
   "cell_type": "markdown",
   "metadata": {
    "slideshow": {
     "slide_type": "slide"
    }
   },
   "source": [
    "# Text Processing Services"
   ]
  },
  {
   "cell_type": "markdown",
   "metadata": {
    "slideshow": {
     "slide_type": "slide"
    }
   },
   "source": [
    "## difflib\n",
    "---\n",
    "### Helpers for computing deltas"
   ]
  },
  {
   "cell_type": "code",
   "execution_count": 134,
   "metadata": {
    "slideshow": {
     "slide_type": "slide"
    }
   },
   "outputs": [
    {
     "name": "stdout",
     "output_type": "stream",
     "text": [
      "*** \n",
      "--- \n",
      "***************\n",
      "*** 1,4 ****\n",
      "! bacon\n",
      "! eggs\n",
      "! ham\n",
      "  guido\n",
      "--- 1,4 ----\n",
      "! python\n",
      "! eggy\n",
      "! hamster\n",
      "  guido\n",
      "\n"
     ]
    }
   ],
   "source": [
    "import difflib \n",
    "\n",
    "s1 = ['bacon\\n', 'eggs\\n', 'ham\\n', 'guido\\n']\n",
    "s2 = ['python\\n', 'eggy\\n', 'hamster\\n', 'guido\\n']\n",
    "\n",
    "print(''.join(difflib.context_diff(s1, s2)))"
   ]
  },
  {
   "cell_type": "code",
   "execution_count": 136,
   "metadata": {
    "slideshow": {
     "slide_type": "slide"
    }
   },
   "outputs": [
    {
     "name": "stdout",
     "output_type": "stream",
     "text": [
      "--- \n",
      "+++ \n",
      "@@ -1,4 +1,4 @@\n",
      "-bacon\n",
      "-eggs\n",
      "-ham\n",
      "+python\n",
      "+eggy\n",
      "+hamster\n",
      " guido\n",
      "\n"
     ]
    }
   ],
   "source": [
    "print(''.join(difflib.unified_diff(s1, s2)))"
   ]
  },
  {
   "cell_type": "code",
   "execution_count": 138,
   "metadata": {
    "slideshow": {
     "slide_type": "slide"
    }
   },
   "outputs": [
    {
     "name": "stdout",
     "output_type": "stream",
     "text": [
      "- bacon\n",
      "+ python\n",
      "- eggs\n",
      "?    ^\n",
      "+ eggy\n",
      "?    ^\n",
      "- ham\n",
      "+ hamster\n",
      "  guido\n",
      "\n"
     ]
    }
   ],
   "source": [
    "print(''.join(difflib.ndiff(s1, s2)))"
   ]
  },
  {
   "cell_type": "code",
   "execution_count": 140,
   "metadata": {
    "slideshow": {
     "slide_type": "slide"
    }
   },
   "outputs": [
    {
     "name": "stdout",
     "output_type": "stream",
     "text": [
      "bacon\n",
      "eggs\n",
      "ham\n",
      "guido\n",
      "\n"
     ]
    }
   ],
   "source": [
    "diff = list(difflib.ndiff(s1, s2))\n",
    "print(''.join(difflib.restore(diff, 1)))"
   ]
  },
  {
   "cell_type": "code",
   "execution_count": 141,
   "metadata": {
    "slideshow": {
     "slide_type": "slide"
    }
   },
   "outputs": [
    {
     "name": "stdout",
     "output_type": "stream",
     "text": [
      "python\n",
      "eggy\n",
      "hamster\n",
      "guido\n",
      "\n"
     ]
    }
   ],
   "source": [
    "print(''.join(difflib.restore(diff, 2)))"
   ]
  },
  {
   "cell_type": "code",
   "execution_count": 121,
   "metadata": {
    "slideshow": {
     "slide_type": "slide"
    }
   },
   "outputs": [
    {
     "data": {
      "text/plain": [
       "['apple', 'ape']"
      ]
     },
     "execution_count": 121,
     "metadata": {},
     "output_type": "execute_result"
    }
   ],
   "source": [
    "difflib.get_close_matches('appel', ['ape', 'apple', 'peach', 'puppy'])"
   ]
  },
  {
   "cell_type": "markdown",
   "metadata": {
    "slideshow": {
     "slide_type": "slide"
    }
   },
   "source": [
    "# File and Directory Access"
   ]
  },
  {
   "cell_type": "markdown",
   "metadata": {
    "slideshow": {
     "slide_type": "slide"
    }
   },
   "source": [
    "## pathlib\n",
    "---\n",
    "### Object-oriented filesystem paths"
   ]
  },
  {
   "cell_type": "code",
   "execution_count": 104,
   "metadata": {
    "slideshow": {
     "slide_type": "slide"
    }
   },
   "outputs": [
    {
     "data": {
      "text/plain": [
       "WindowsPath('.')"
      ]
     },
     "execution_count": 104,
     "metadata": {},
     "output_type": "execute_result"
    }
   ],
   "source": [
    "from pathlib import Path\n",
    "\n",
    "Path('.')"
   ]
  },
  {
   "cell_type": "code",
   "execution_count": 35,
   "metadata": {
    "slideshow": {
     "slide_type": "slide"
    }
   },
   "outputs": [
    {
     "data": {
      "text/plain": [
       "WindowsPath('C:/Users/Alex/Projects/gems-of-python-stdlib')"
      ]
     },
     "execution_count": 35,
     "metadata": {},
     "output_type": "execute_result"
    }
   ],
   "source": [
    "Path(r'C:/Users/Alex/Projects/gems-of-python-stdlib')"
   ]
  },
  {
   "cell_type": "code",
   "execution_count": 33,
   "metadata": {
    "slideshow": {
     "slide_type": "slide"
    }
   },
   "outputs": [
    {
     "data": {
      "text/plain": [
       "WindowsPath('C:/Users/Alex/Projects/gems-of-python-stdlib')"
      ]
     },
     "execution_count": 33,
     "metadata": {},
     "output_type": "execute_result"
    }
   ],
   "source": [
    "Path('.').absolute()"
   ]
  },
  {
   "cell_type": "code",
   "execution_count": 108,
   "metadata": {
    "slideshow": {
     "slide_type": "slide"
    }
   },
   "outputs": [
    {
     "data": {
      "text/plain": [
       "WindowsPath('output')"
      ]
     },
     "execution_count": 108,
     "metadata": {},
     "output_type": "execute_result"
    }
   ],
   "source": [
    "output_dir = Path() / 'output'\n",
    "output_dir"
   ]
  },
  {
   "cell_type": "code",
   "execution_count": 112,
   "metadata": {
    "slideshow": {
     "slide_type": "slide"
    }
   },
   "outputs": [
    {
     "name": "stdout",
     "output_type": "stream",
     "text": [
      "False\n",
      "True\n",
      "True\n"
     ]
    }
   ],
   "source": [
    "print(output_dir.exists())\n",
    "output_dir.mkdir()\n",
    "\n",
    "print(output_dir.exists())\n",
    "print(output_dir.is_dir())"
   ]
  },
  {
   "cell_type": "code",
   "execution_count": 115,
   "metadata": {
    "slideshow": {
     "slide_type": "slide"
    }
   },
   "outputs": [
    {
     "data": {
      "text/plain": [
       "True"
      ]
     },
     "execution_count": 115,
     "metadata": {},
     "output_type": "execute_result"
    }
   ],
   "source": [
    "some_file = output_dir / \"test.txt\"\n",
    "\n",
    "with some_file.open(\"w\") as f:\n",
    "    f.write(\"hello world\")\n",
    "    \n",
    "some_file.is_file()"
   ]
  },
  {
   "cell_type": "code",
   "execution_count": 116,
   "metadata": {
    "slideshow": {
     "slide_type": "slide"
    }
   },
   "outputs": [
    {
     "data": {
      "text/plain": [
       "[WindowsPath('output/test.txt')]"
      ]
     },
     "execution_count": 116,
     "metadata": {},
     "output_type": "execute_result"
    }
   ],
   "source": [
    "list(output_dir.glob(\"*.txt\"))"
   ]
  },
  {
   "cell_type": "markdown",
   "metadata": {
    "slideshow": {
     "slide_type": "slide"
    }
   },
   "source": [
    "# Concurrent Execution"
   ]
  },
  {
   "cell_type": "markdown",
   "metadata": {
    "slideshow": {
     "slide_type": "slide"
    }
   },
   "source": [
    "## sched\n",
    "---\n",
    "### Event scheduler"
   ]
  },
  {
   "cell_type": "code",
   "execution_count": 98,
   "metadata": {
    "slideshow": {
     "slide_type": "slide"
    }
   },
   "outputs": [],
   "source": [
    "import sched\n",
    "import time\n",
    "\n",
    "s = sched.scheduler()\n",
    "\n",
    "def do_action(action=\"default\"):\n",
    "    print(\"do_action\", action, time.time())"
   ]
  },
  {
   "cell_type": "code",
   "execution_count": 101,
   "metadata": {
    "slideshow": {
     "slide_type": "slide"
    }
   },
   "outputs": [
    {
     "data": {
      "text/plain": [
       "[Event(time=334578.609, priority=1, action=<function do_action at 0x000001C443199D38>, argument=(), kwargs={}),\n",
       " Event(time=334583.609, priority=1, action=<function do_action at 0x000001C443199D38>, argument=(), kwargs={'action': 'do_something'}),\n",
       " Event(time=334583.609, priority=2, action=<function do_action at 0x000001C443199D38>, argument=('do_nothing',), kwargs={})]"
      ]
     },
     "execution_count": 101,
     "metadata": {},
     "output_type": "execute_result"
    }
   ],
   "source": [
    "s.enter(5, 1, do_action)\n",
    "s.enter(10, 2, do_action, argument=(\"do_nothing\",))\n",
    "s.enter(10, 1, do_action, kwargs={\"action\": \"do_something\"})\n",
    "\n",
    "s.queue"
   ]
  },
  {
   "cell_type": "code",
   "execution_count": 102,
   "metadata": {
    "slideshow": {
     "slide_type": "slide"
    }
   },
   "outputs": [
    {
     "name": "stdout",
     "output_type": "stream",
     "text": [
      "1595128083.2414653\n",
      "do_action default 1595128084.8841434\n",
      "do_action do_something 1595128089.8841772\n",
      "do_action do_nothing 1595128089.8841772\n",
      "1595128089.8841772\n"
     ]
    }
   ],
   "source": [
    "print(time.time())\n",
    "s.run()\n",
    "print(time.time())"
   ]
  },
  {
   "cell_type": "markdown",
   "metadata": {
    "slideshow": {
     "slide_type": "slide"
    }
   },
   "source": [
    "# Internet Protocols and Support"
   ]
  },
  {
   "cell_type": "markdown",
   "metadata": {
    "slideshow": {
     "slide_type": "slide"
    }
   },
   "source": [
    "## webbrowser\n",
    "---\n",
    "### Convenient Web-browser controller"
   ]
  },
  {
   "cell_type": "code",
   "execution_count": null,
   "metadata": {
    "slideshow": {
     "slide_type": "slide"
    }
   },
   "outputs": [],
   "source": [
    "import webbrowser\n",
    "\n",
    "url = 'http://docs.python.org/'\n",
    "\n",
    "webbrowser.open(url)\n",
    "\n",
    "webbrowser.open_new(url)\n",
    "\n",
    "webbrowser.open_new_tab(url)"
   ]
  },
  {
   "cell_type": "code",
   "execution_count": 13,
   "metadata": {
    "slideshow": {
     "slide_type": "slide"
    }
   },
   "outputs": [
    {
     "data": {
      "text/plain": [
       "<webbrowser.WindowsDefault at 0x1c4431893c8>"
      ]
     },
     "execution_count": 13,
     "metadata": {},
     "output_type": "execute_result"
    }
   ],
   "source": [
    "webbrowser.get()"
   ]
  },
  {
   "cell_type": "markdown",
   "metadata": {
    "slideshow": {
     "slide_type": "slide"
    }
   },
   "source": [
    "## UUID\n",
    "---\n",
    "### UUID objects according to RFC 4122¶"
   ]
  },
  {
   "cell_type": "code",
   "execution_count": 79,
   "metadata": {
    "slideshow": {
     "slide_type": "slide"
    }
   },
   "outputs": [
    {
     "data": {
      "text/plain": [
       "UUID('720a9090-07db-4404-8727-4969d006be3e')"
      ]
     },
     "execution_count": 79,
     "metadata": {},
     "output_type": "execute_result"
    }
   ],
   "source": [
    "import uuid\n",
    "\n",
    "# Version 1: date-time and host id\n",
    "uuid.uuid1()\n",
    "\n",
    "# Version 3 & 5: namespace, v3 using md5, v5 using sha1\n",
    "uuid.uuid3(namespace=uuid.NAMESPACE_DNS, name='python.org')\n",
    "uuid.uuid5(namespace=uuid.NAMESPACE_DNS, name='python.org')\n",
    "\n",
    "# Version 4: Random\n",
    "uuid.uuid4()"
   ]
  },
  {
   "cell_type": "code",
   "execution_count": 145,
   "metadata": {
    "slideshow": {
     "slide_type": "slide"
    }
   },
   "outputs": [
    {
     "name": "stdout",
     "output_type": "stream",
     "text": [
      "a13a0214-5e7f-49f6-8bc2-b2eccf10ce63\n",
      "214306902717794406911615899686489083491\n"
     ]
    }
   ],
   "source": [
    "id = uuid.uuid4()\n",
    "print(str(id))\n",
    "print(id.int)"
   ]
  }
 ],
 "metadata": {
  "kernelspec": {
   "display_name": "Python 3.7.5 64-bit",
   "language": "python",
   "name": "python37564bit0411d73b321b44aaaf1f31e51b65b1b7"
  },
  "language_info": {
   "codemirror_mode": {
    "name": "ipython",
    "version": 3
   },
   "file_extension": ".py",
   "mimetype": "text/x-python",
   "name": "python",
   "nbconvert_exporter": "python",
   "pygments_lexer": "ipython3",
   "version": "3.7.5"
  }
 },
 "nbformat": 4,
 "nbformat_minor": 4
}
